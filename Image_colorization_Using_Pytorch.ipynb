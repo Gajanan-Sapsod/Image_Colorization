{
  "cells": [
    {
      "cell_type": "markdown",
      "metadata": {
        "id": "view-in-github",
        "colab_type": "text"
      },
      "source": [
        "<a href=\"https://colab.research.google.com/github/Gajanan-Sapsod/Image_Colorization/blob/main/Image_colorization_Using_Pytorch.ipynb\" target=\"_parent\"><img src=\"https://colab.research.google.com/assets/colab-badge.svg\" alt=\"Open In Colab\"/></a>"
      ]
    },
    {
      "cell_type": "code",
      "execution_count": null,
      "metadata": {
        "id": "fQTMxA8U2oU9"
      },
      "outputs": [],
      "source": [
        "import torch\n",
        "import torchvision\n",
        "from torchvision import transforms\n",
        "from torch.utils.data import DataLoader,random_split\n",
        "from torch import nn\n",
        "import torch.nn.functional as F\n",
        "import torch.optim as optim\n",
        "import matplotlib.pyplot as plt"
      ]
    },
    {
      "cell_type": "code",
      "source": [
        "from skimage.color import lab2rgb, rgb2lab, rgb2gray"
      ],
      "metadata": {
        "id": "kEXS8obwqaKf"
      },
      "execution_count": null,
      "outputs": []
    },
    {
      "cell_type": "code",
      "source": [
        "import torchvision.models as models"
      ],
      "metadata": {
        "id": "jFRfwtG-pciD"
      },
      "execution_count": null,
      "outputs": []
    },
    {
      "cell_type": "code",
      "execution_count": null,
      "metadata": {
        "id": "-zQ2tUyn4Jdn"
      },
      "outputs": [],
      "source": [
        "import random\n",
        "import numpy as np"
      ]
    },
    {
      "cell_type": "code",
      "execution_count": null,
      "metadata": {
        "id": "S6UlsEVN3Ig8"
      },
      "outputs": [],
      "source": [
        "data_dir=\"flower\"\n",
        "train_dataset_color = torchvision.datasets.Flowers102(data_dir, \"train\", download=True)"
      ]
    },
    {
      "cell_type": "code",
      "source": [
        "class GrayscaleImageFolder(torchvision.datasets.ImageFolder):\n",
        "  '''Custom images folder, which converts images to grayscale before loading'''\n",
        "  def __getitem__(self, index):\n",
        "    path, target = self.imgs[index]\n",
        "    img = self.loader(path)\n",
        "    if self.transform is not None:\n",
        "      img_original = self.transform(img)\n",
        "      img_original = np.asarray(img_original)\n",
        "      img_lab = rgb2lab(img_original)\n",
        "      img_lab = (img_lab + 128) / 255\n",
        "      img_ab = img_lab[:, :, 1:3]\n",
        "      img_ab = torch.from_numpy(img_ab.transpose((2, 0, 1))).float()\n",
        "      img_original = rgb2gray(img_original)\n",
        "      img_original = torch.from_numpy(img_original).unsqueeze(0).float()\n",
        "    if self.target_transform is not None:\n",
        "      target = self.target_transform(target)\n",
        "    return img_original, img_ab, target"
      ],
      "metadata": {
        "id": "xF-gs9ozhOVW"
      },
      "execution_count": null,
      "outputs": []
    },
    {
      "cell_type": "code",
      "source": [
        "def to_rgb(grayscale_input, ab_input):\n",
        "  '''Show/save rgb image from grayscale and ab channels\n",
        "     Input save_path in the form {'grayscale': '/path/', 'colorized': '/path/'}'''\n",
        "  plt.clf() # clear matplotlib \n",
        "  color_image = torch.cat((grayscale_input, ab_input), 0).numpy() # combine channels\n",
        "  color_image = color_image.transpose((1, 2, 0))  # rescale for matplotlib\n",
        "  color_image[:, :, 0:1] = color_image[:, :, 0:1] * 100\n",
        "  color_image[:, :, 1:3] = color_image[:, :, 1:3] * 255 - 128   \n",
        "  color_image = lab2rgb(color_image.astype(np.float64))\n",
        "  grayscale_input = grayscale_input.squeeze().numpy()\n",
        "  plt.imshow(grayscale_input, cmap='gray')\n",
        "  plt.imshow(color_image)\n",
        "  plt.show()"
      ],
      "metadata": {
        "id": "UhED5gNWR5i3"
      },
      "execution_count": null,
      "outputs": []
    },
    {
      "cell_type": "code",
      "source": [
        "train_transforms = transforms.Compose([transforms.RandomResizedCrop(224), transforms.RandomHorizontalFlip()])\n",
        "train_imagefolder = GrayscaleImageFolder(data_dir,  train_transforms)\n",
        "\n",
        "train_loader = torch.utils.data.DataLoader(train_imagefolder, batch_size=128, shuffle=True)\n",
        "val_loader=torch.utils.data.DataLoader(train_imagefolder, batch_size=128, shuffle=True)\n",
        "\n",
        "print(len(train_loader))\n",
        "print(len(val_loader))\n"
      ],
      "metadata": {
        "colab": {
          "base_uri": "https://localhost:8080/"
        },
        "id": "9f6ABDYKKxpA",
        "outputId": "7b6d172e-dae8-4f9f-cf84-d74d07091178"
      },
      "execution_count": null,
      "outputs": [
        {
          "output_type": "stream",
          "name": "stdout",
          "text": [
            "64\n",
            "64\n"
          ]
        }
      ]
    },
    {
      "cell_type": "code",
      "source": [
        "class ColorizationNet(nn.Module):\n",
        "  def __init__(self, input_size=128):\n",
        "    super(ColorizationNet, self).__init__()\n",
        "    MIDLEVEL_FEATURE_SIZE = 128\n",
        "\n",
        "    ## First half: ResNet\n",
        "    resnet= torch.hub.load('pytorch/vision:v0.10.0', 'resnet18', pretrained=True)\n",
        " \n",
        "    # Change first conv layer to accept single-channel (grayscale) input\n",
        "    resnet.conv1.weight = nn.Parameter(resnet.conv1.weight.sum(dim=1).unsqueeze(1)) \n",
        "    # Extract midlevel features from ResNet-gray\n",
        "    self.midlevel_resnet = nn.Sequential(*list(resnet.children())[0:6])\n",
        "\n",
        "    ## Second half: Upsampling\n",
        "    self.upsample = nn.Sequential(     \n",
        "      nn.Conv2d(MIDLEVEL_FEATURE_SIZE, 128, kernel_size=3, stride=1, padding=1),\n",
        "      nn.BatchNorm2d(128),\n",
        "      nn.ReLU(),\n",
        "      nn.Upsample(scale_factor=2),\n",
        "      nn.Conv2d(128, 64, kernel_size=3, stride=1, padding=1),\n",
        "      nn.BatchNorm2d(64),\n",
        "      nn.ReLU(),\n",
        "      nn.Conv2d(64, 64, kernel_size=3, stride=1, padding=1),\n",
        "      nn.BatchNorm2d(64),\n",
        "      nn.ReLU(),\n",
        "      nn.Upsample(scale_factor=2),\n",
        "      nn.Conv2d(64, 32, kernel_size=3, stride=1, padding=1),\n",
        "      nn.BatchNorm2d(32),\n",
        "      nn.ReLU(),\n",
        "      nn.Conv2d(32, 2, kernel_size=3, stride=1, padding=1),\n",
        "      nn.Upsample(scale_factor=2)\n",
        "    )\n",
        "\n",
        "  def forward(self, input):\n",
        "\n",
        "    # Pass input through ResNet-gray to extract features\n",
        "    midlevel_features = self.midlevel_resnet(input)\n",
        "\n",
        "    # Upsample to get colors\n",
        "    output = self.upsample(midlevel_features)\n",
        "    return output"
      ],
      "metadata": {
        "id": "KjswFNzxDv0r"
      },
      "execution_count": null,
      "outputs": []
    },
    {
      "cell_type": "code",
      "execution_count": null,
      "metadata": {
        "id": "bKs-z9OM95rB",
        "colab": {
          "base_uri": "https://localhost:8080/"
        },
        "outputId": "06024e19-2b25-4bfd-c416-8c31b28b3902"
      },
      "outputs": [
        {
          "output_type": "stream",
          "name": "stderr",
          "text": [
            "Using cache found in /root/.cache/torch/hub/pytorch_vision_v0.10.0\n"
          ]
        }
      ],
      "source": [
        "### Set the random seed for reproducible results\n",
        "torch.manual_seed(0)\n",
        "\n",
        "Net=ColorizationNet()\n",
        "\n",
        "for params in Net.midlevel_resnet.parameters():\n",
        "  params.requires_grad=False\n"
      ]
    },
    {
      "cell_type": "code",
      "execution_count": null,
      "metadata": {
        "id": "W0SqT2cO-rNU"
      },
      "outputs": [],
      "source": [
        "### Define the loss function\n",
        "loss_fn = torch.nn.MSELoss()\n",
        "\n",
        "### Define an optimizer (both for the encoder and the decoder!)\n",
        "lr= 0.01\n",
        "#lr = 0.0008 # Learning rate\n",
        "\n",
        "\n",
        "\n",
        "\n",
        "optim = torch.optim.Adam(Net.parameters(), lr=lr)\n",
        "#optim = torch.optim.Adam(model.parameters(), lr=lr, weight_decay=6e-05)\n",
        "\n",
        "# Check if the GPU is available\n",
        "device = torch.device(\"cuda\") if torch.cuda.is_available() else torch.device(\"cpu\")\n",
        "print(f'Selected device: {device}')\n",
        "\n",
        "# Move both the encoder and the decoder to the selected device\n",
        "#encoder.to(device)\n",
        "#decoder.to(device)\n",
        "Net.to(device)"
      ]
    },
    {
      "cell_type": "code",
      "execution_count": null,
      "metadata": {
        "id": "9rBCRuaL-2a8"
      },
      "outputs": [],
      "source": [
        "### Training function\n",
        "def train_epoch(Net, device, train_loader,  loss_fn, optimizer):\n",
        "   \n",
        "    Net.train()\n",
        "    train_loss = []\n",
        "    i=0\n",
        "   \n",
        "    # Iterate the dataloader (we do not need the label values, this is unsupervised learning)\n",
        "    for  i, (input_gray, input_ab, target) in enumerate(train_loader):\n",
        "        image_batch = input_gray.to(device)\n",
        "        color_batch = input_ab.to(device)\n",
        "        \n",
        "        # Encode data\n",
        "      #  encoded_data = encoder(image_batch)\n",
        "      #   Decode data\n",
        "      #   decoded_data = decoder(encoded_data)\n",
        "        decoded_data=Net(image_batch)\n",
        "        # Evaluate loss\n",
        "        loss = loss_fn(decoded_data, color_batch)\n",
        "        # Backward pass\n",
        "        optimizer.zero_grad()\n",
        "        loss.backward()\n",
        "        optimizer.step()\n",
        "        # Print batch loss\n",
        "        print('\\t partial train loss (single batch): %f' % (loss.data))\n",
        "        train_loss.append(loss.detach().cpu().numpy())\n",
        "        print(i+1)\n",
        "        if(i%10==0):\n",
        "         for j in range(5):\n",
        "          plt.imshow(input_gray[j].reshape(224,224), cmap='gray')\n",
        "          plt.show()\n",
        "          to_rgb(input_gray[j].cpu(), decoded_data[j].detach().cpu())\n",
        "\n",
        "        i=i+1\n",
        "\n",
        "    return np.mean(train_loss)"
      ]
    },
    {
      "cell_type": "code",
      "source": [
        "num_epochs = 50\n",
        "history={'train_loss':[],'val_loss':[]}\n",
        "for epoch in range(num_epochs):\n",
        "\n",
        "   train_loss = train_epoch(Net,device,train_loader, loss_fn,optim)\n",
        "   print('\\n EPOCH {}/{} \\t train loss {:.3f} \\t '.format(epoch + 1, num_epochs,train_loss))\n",
        "   history['train_loss'].append(train_loss)\n",
        "  "
      ],
      "metadata": {
        "id": "jd_DbZU39Tbd"
      },
      "execution_count": null,
      "outputs": []
    },
    {
      "cell_type": "code",
      "source": [
        "val_loss=[]\n",
        "def validate(val_loader, Net, loss_fn):\n",
        "  Net.eval()\n",
        "\n",
        "  for i, (input_gray, input_ab, target) in enumerate(val_loader):\n",
        "   if( i<1):\n",
        "  \n",
        "      image_batch = input_gray.to(device)\n",
        "      color_batch = input_ab.to(device)\n",
        "      decoded_data=Net(image_batch) \n",
        "      loss = loss_fn(decoded_data, color_batch)\n",
        "      val_loss.append(loss)\n",
        "      for j in range (5): # save at most 5 images\n",
        "            save_path = {'grayscale': 'outputs/gray/', 'colorized': 'outputs/color/'}\n",
        "            save_name = 'img-{}-epoch-{}.jpg'.format(i * val_loader.batch_size + j,0)\n",
        "            plt.imshow(input_gray[j].reshape(224,224), cmap='gray')\n",
        "            plt.show()\n",
        "            to_rgb(input_gray[j].cpu(), decoded_data[j].detach().cpu())\n",
        "  return loss"
      ],
      "metadata": {
        "id": "elKnlfmGZKSv"
      },
      "execution_count": null,
      "outputs": []
    },
    {
      "cell_type": "code",
      "source": [
        "for epoch in range(2):\n",
        "  # Train for one epoch, then validate\n",
        "  with torch.no_grad():\n",
        "    losses = validate(val_loader, Net, loss_fn)\n",
        "  # Save checkpoint and replace old best model if current model is better\n",
        " \n",
        "    "
      ],
      "metadata": {
        "id": "ZUhyNpR_BY-3"
      },
      "execution_count": null,
      "outputs": []
    }
  ],
  "metadata": {
    "colab": {
      "provenance": [],
      "collapsed_sections": [],
      "authorship_tag": "ABX9TyNSksJSSsiGZqQmsgLesmwL",
      "include_colab_link": true
    },
    "kernelspec": {
      "display_name": "Python 3",
      "name": "python3"
    },
    "language_info": {
      "name": "python"
    },
    "accelerator": "GPU"
  },
  "nbformat": 4,
  "nbformat_minor": 0
}